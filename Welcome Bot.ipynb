{
 "cells": [
  {
   "cell_type": "code",
   "execution_count": 1,
   "id": "8b6c01c6",
   "metadata": {},
   "outputs": [],
   "source": [
    "def welcome_bot():\n",
    "\n",
    "    #welcome user\n",
    "    print('Welcome to NetTech!')\n",
    "    #user name?\n",
    "    user_input=input('Enter your name here:')\n",
    "    #hello user\n",
    "    print('Hello',user_input.title())\n",
    "\n",
    "    #greeting according to time\n",
    "    import datetime\n",
    "    current_time=int(datetime.datetime.now().hour)\n",
    "\n",
    "    #9-12 --> good morning\n",
    "    if current_time>=9 and current_time<12:\n",
    "        print('Good Morning!')\n",
    "    #12-16 --> good afternoon\n",
    "    elif current_time>=12 and current_time<16:\n",
    "        print('Good Afternoon!')\n",
    "    #16-19 --> good evening\n",
    "    elif current_time>=16 and current_time<19:\n",
    "        print('Good Evening!')\n",
    "    #else we are closed class timing (9:00 am- 7:00 pm)\n",
    "    else:\n",
    "        print('we are closed'.title())\n",
    "        print('Class Timing 9:00 am- 7:00 pm')\n",
    "    #thank you user\n",
    "    print('Thank you for visiting NetTech')\n",
    "    print('*'*30)\n",
    "        \n",
    "\n",
    "\n",
    "#import library\n",
    "import tkinter \n",
    "\n",
    "#Main windo\n",
    "window=tkinter.Tk()\n",
    "\n",
    "#title change\n",
    "window.title('NetTech')\n",
    "#size change\n",
    "window.geometry('200x200')\n",
    "#label -- NetTech\n",
    "tkinter.Label(window,text='NetTech',font=('Helvetica',16)).place(x=55,y=40)\n",
    "#button-- High-Five\n",
    "tkinter.Button(window,text='High-Five',command=welcome_bot).place(x=60,y=100)\n",
    "\n",
    "\n",
    "#ye main loop hai, ye agar nai likhoge toh UI nai dikhega\n",
    "window.mainloop()\n",
    "\n",
    "\n",
    "\n"
   ]
  },
  {
   "cell_type": "code",
   "execution_count": null,
   "id": "829b3f9e",
   "metadata": {},
   "outputs": [],
   "source": []
  }
 ],
 "metadata": {
  "kernelspec": {
   "display_name": "Python 3 (ipykernel)",
   "language": "python",
   "name": "python3"
  },
  "language_info": {
   "codemirror_mode": {
    "name": "ipython",
    "version": 3
   },
   "file_extension": ".py",
   "mimetype": "text/x-python",
   "name": "python",
   "nbconvert_exporter": "python",
   "pygments_lexer": "ipython3",
   "version": "3.8.11"
  }
 },
 "nbformat": 4,
 "nbformat_minor": 5
}
